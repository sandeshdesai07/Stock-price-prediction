{
  "cells": [
    {
      "cell_type": "markdown",
      "metadata": {
        "id": "view-in-github",
        "colab_type": "text"
      },
      "source": [
        "<a href=\"https://colab.research.google.com/github/sandeshdesai07/Stock-price-prediction/blob/main/Stock_Price_Prediction.ipynb\" target=\"_parent\"><img src=\"https://colab.research.google.com/assets/colab-badge.svg\" alt=\"Open In Colab\"/></a>"
      ]
    },
    {
      "cell_type": "code",
      "execution_count": null,
      "metadata": {
        "id": "aEiiQONSrTcI"
      },
      "outputs": [],
      "source": [
        "#Import the libraries\n",
        "import pandas as pd\n",
        "import xgboost as xgb\n",
        "import matplotlib.pyplot as plt"
      ]
    },
    {
      "cell_type": "code",
      "execution_count": null,
      "metadata": {
        "id": "jZWaFYsasIfH"
      },
      "outputs": [],
      "source": [
        "#Load the small_dataset\n",
        "data=pd.read_csv('stock_small_data.csv')"
      ]
    },
    {
      "cell_type": "code",
      "source": [
        "#Show data\n",
        "data"
      ],
      "metadata": {
        "id": "rfeh2tuhtgEV"
      },
      "execution_count": null,
      "outputs": []
    },
    {
      "cell_type": "code",
      "execution_count": null,
      "metadata": {
        "id": "-69PKPUiZzXI"
      },
      "outputs": [],
      "source": [
        "#Show the data visully\n",
        "data['Close'].plot(color='g')"
      ]
    },
    {
      "cell_type": "code",
      "execution_count": null,
      "metadata": {
        "id": "ZCqWyFg0ajon"
      },
      "outputs": [],
      "source": [
        "#Split the data into training and testing data sets\n",
        "train_data=data.iloc[:int(.49*len(data)), :]\n",
        "test_data=data.iloc[int(.49*len(data)):, :]"
      ]
    },
    {
      "cell_type": "code",
      "execution_count": null,
      "metadata": {
        "id": "L6OxNdOTbYnY"
      },
      "outputs": [],
      "source": [
        "#Define the features and target variable\n",
        "features=['Open','Volume']\n",
        "target='Close'"
      ]
    },
    {
      "cell_type": "code",
      "execution_count": null,
      "metadata": {
        "id": "mX7kgHjSbqrN"
      },
      "outputs": [],
      "source": [
        "#Create and train the model\n",
        "model=xgb.XGBRegressor()\n",
        "model.fit(train_data[features],train_data[target])"
      ]
    },
    {
      "cell_type": "code",
      "execution_count": null,
      "metadata": {
        "id": "ZsoqkJ07cFvQ"
      },
      "outputs": [],
      "source": [
        "#Make and show the predictions on the test data\n",
        "predictions=model.predict(test_data[features])\n",
        "print(predictions)"
      ]
    },
    {
      "cell_type": "code",
      "execution_count": null,
      "metadata": {
        "id": "7U6KcAN4cmwD"
      },
      "outputs": [],
      "source": [
        "#Show the actual values\n",
        "print('Actual Values: ')\n",
        "print(test_data[target])"
      ]
    },
    {
      "cell_type": "code",
      "execution_count": null,
      "metadata": {
        "id": "DhmWTPufc6MC"
      },
      "outputs": [],
      "source": [
        "#Show the models accuracy\n",
        "accuracy=model.score(test_data[features],test_data[target])\n",
        "print('Accuracy:')\n",
        "print(accuracy*100,\"%\")"
      ]
    },
    {
      "cell_type": "code",
      "execution_count": null,
      "metadata": {
        "id": "mB50wH1udeiq"
      },
      "outputs": [],
      "source": [
        "#Plot the predictions and the close price\n",
        "plt.plot(data['Close'],label='Close Price',color='g')\n",
        "plt.plot(test_data[target].index,predictions,label='Predictions',color='r')\n",
        "plt.legend()\n",
        "plt.show()"
      ]
    },
    {
      "cell_type": "code",
      "execution_count": null,
      "metadata": {
        "id": "7AfVbmAEGnIa"
      },
      "outputs": [],
      "source": [
        "#Load the dataset\n",
        "data2=pd.read_csv('spy2.csv')"
      ]
    },
    {
      "cell_type": "code",
      "execution_count": null,
      "metadata": {
        "id": "CvkiELIYGoCj"
      },
      "outputs": [],
      "source": [
        "#Show the data\n",
        "data2"
      ]
    },
    {
      "cell_type": "code",
      "execution_count": null,
      "metadata": {
        "id": "ZDaqwrlhGpkr"
      },
      "outputs": [],
      "source": [
        "#Show the data visully\n",
        "data2['Close'].plot(color='g')"
      ]
    },
    {
      "cell_type": "code",
      "execution_count": null,
      "metadata": {
        "id": "4LRx0ftwGx_S"
      },
      "outputs": [],
      "source": [
        "#Split the data into training and testing data sets\n",
        "train_data=data2.iloc[:int(.99*len(data2)), :]\n",
        "test_data=data2.iloc[int(.99*len(data2)):, :]"
      ]
    },
    {
      "cell_type": "code",
      "execution_count": null,
      "metadata": {
        "id": "uknR67AvG-x9"
      },
      "outputs": [],
      "source": [
        "#Define the features and target variable\n",
        "features=['Open','Volume']\n",
        "target='Close'"
      ]
    },
    {
      "cell_type": "code",
      "execution_count": null,
      "metadata": {
        "id": "G1I8GdoyHDzC"
      },
      "outputs": [],
      "source": [
        "#Create and train the model\n",
        "model=xgb.XGBRegressor()\n",
        "model.fit(train_data[features],train_data[target])"
      ]
    },
    {
      "cell_type": "code",
      "execution_count": null,
      "metadata": {
        "id": "Sa5grkLIHIDO"
      },
      "outputs": [],
      "source": [
        "#Make and show the predictions on the test data\n",
        "predictions=model.predict(test_data[features])\n",
        "print(predictions)"
      ]
    },
    {
      "cell_type": "code",
      "execution_count": null,
      "metadata": {
        "id": "gAgTJ1BAHL_e"
      },
      "outputs": [],
      "source": [
        "#Show the actual values\n",
        "print('Actual Values: ')\n",
        "print(test_data[target])"
      ]
    },
    {
      "cell_type": "code",
      "execution_count": null,
      "metadata": {
        "id": "LBwfgn8FHPa5"
      },
      "outputs": [],
      "source": [
        "#Show the models accuracy\n",
        "accuracy=model.score(test_data[features],test_data[target])\n",
        "print('Accuracy:')\n",
        "print(accuracy*100,\"%\")"
      ]
    },
    {
      "cell_type": "code",
      "execution_count": null,
      "metadata": {
        "id": "JHazvQBCHTVO"
      },
      "outputs": [],
      "source": [
        "#Plot the predictions and the close price\n",
        "plt.plot(data2['Close'],label='Close Price',color='g')\n",
        "plt.plot(test_data[target].index,predictions,label='Predictions',color='r')\n",
        "plt.legend()\n",
        "plt.show()"
      ]
    }
  ],
  "metadata": {
    "colab": {
      "provenance": [],
      "authorship_tag": "ABX9TyNVCMa5gQXUpB/87zM5dWWf",
      "include_colab_link": true
    },
    "kernelspec": {
      "display_name": "Python 3",
      "name": "python3"
    },
    "language_info": {
      "name": "python"
    }
  },
  "nbformat": 4,
  "nbformat_minor": 0
}